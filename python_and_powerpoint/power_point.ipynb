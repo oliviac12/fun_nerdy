{
 "cells": [
  {
   "cell_type": "markdown",
   "metadata": {
    "slideshow": {
     "slide_type": "-"
    }
   },
   "source": [
    "# Python + Powerpoint\n",
    "\n",
    "## Website URL\n",
    "https://python-pptx.readthedocs.io/en/latest/user/quickstart.html\n",
    "\n",
    "## Step 1\n",
    "Install python-pptx using \"pip install python-ppx\"\n",
    "\n"
   ]
  },
  {
   "cell_type": "code",
   "execution_count": 40,
   "metadata": {
    "collapsed": true,
    "slideshow": {
     "slide_type": "slide"
    }
   },
   "outputs": [],
   "source": [
    "## First Slide\n",
    "\n",
    "from pptx import Presentation\n",
    "\n",
    "prs = Presentation()\n",
    "title_slide_layout = prs.slide_layouts[0]\n",
    "slide = prs.slides.add_slide(title_slide_layout)\n",
    "title = slide.shapes.title\n",
    "subtitle = slide.placeholders[1]\n",
    "\n",
    "title.text = \"Hola, World!\"\n",
    "subtitle.text = \"python-pptx was here!\"\n",
    "\n",
    "title_slide_layout = prs.slide_layouts[0]\n",
    "new_slide = prs.slides.add_slide(title_slide_layout)\n",
    "title = new_slide.shapes.title\n",
    "subtitle = new_slide.placeholders[1]\n",
    "\n",
    "title.text = \"Hello Again!\"\n",
    "subtitle.text = \"Do you know the term for eating breakfast for dinner\"\n",
    "\n",
    "prs.save('test.pptx')"
   ]
  },
  {
   "cell_type": "code",
   "execution_count": 41,
   "metadata": {
    "collapsed": false
   },
   "outputs": [],
   "source": [
    "prs = Presentation('test.pptx')\n",
    "bullet_slide_layout = prs.slide_layouts[1]\n",
    "\n",
    "slide = prs.slides.add_slide(bullet_slide_layout)\n",
    "shapes = slide.shapes\n",
    "\n",
    "title_shape = shapes.title\n",
    "body_shape = shapes.placeholders[1]\n",
    "\n",
    "title_shape.text = 'Key Takeaways'\n",
    "\n",
    "tf = body_shape.text_frame\n",
    "tf.text = 'Signups were up x% last week vs. the previous week'\n",
    "\n",
    "p = tf.add_paragraph()\n",
    "p.text = 'The majority of lift was attributed to ...'\n",
    "p.level = 1\n",
    "\n",
    "p = tf.add_paragraph()\n",
    "p.text = 'Use _TextFrame.add_paragraph() for subsequent bullets'\n",
    "p.level = 2\n",
    "\n",
    "prs.save('test.pptx')"
   ]
  },
  {
   "cell_type": "code",
   "execution_count": 34,
   "metadata": {
    "collapsed": true
   },
   "outputs": [],
   "source": [
    "prs = Presentation()\n",
    "title_slide_layout = prs.slide_layouts[0]\n",
    "slide = prs.slides.add_slide(title_slide_layout)\n",
    "title = slide.shapes.title\n",
    "subtitle = slide.placeholders[1]\n",
    "\n",
    "title.text = \"Tadaaa\"\n",
    "subtitle.text = \"Cheers to Thursday\"\n",
    "\n",
    "prs.save('test.pptx')"
   ]
  },
  {
   "cell_type": "code",
   "execution_count": 49,
   "metadata": {
    "collapsed": false
   },
   "outputs": [],
   "source": [
    "import urllib\n",
    "\n",
    "urllib.urlretrieve(\"http://blog.alexwilde.net/wp-content/uploads/2014/02/RaspberryPi_Logo.png\", \"raspi.png\")\n",
    "\n",
    "img_path = 'raspi.png'\n",
    "\n",
    "prs = Presentation()\n",
    "blank_slide_layout = prs.slide_layouts[6]\n",
    "slide = prs.slides.add_slide(blank_slide_layout)\n",
    "\n",
    "left = top = Inches(1)\n",
    "height = Inches(3)\n",
    "pic = slide.shapes.add_picture(img_path, left, top)\n",
    "\n",
    "prs.save('test.pptx')"
   ]
  },
  {
   "cell_type": "code",
   "execution_count": 42,
   "metadata": {
    "collapsed": true
   },
   "outputs": [],
   "source": [
    "## SHAPES\n",
    "from pptx import Presentation\n",
    "from pptx.enum.shapes import MSO_SHAPE\n",
    "from pptx.util import Inches\n",
    "\n",
    "prs = Presentation()\n",
    "title_only_slide_layout = prs.slide_layouts[5]\n",
    "slide = prs.slides.add_slide(title_only_slide_layout)\n",
    "shapes = slide.shapes\n",
    "\n",
    "shapes.title.text = 'Adding an AutoShape'\n",
    "\n",
    "left = Inches(0.93)  # 0.93\" centers this overall set of shapes\n",
    "top = Inches(3.0)\n",
    "width = Inches(1.75)\n",
    "height = Inches(1.0)\n",
    "\n",
    "shape = shapes.add_shape(MSO_SHAPE.PENTAGON, left, top, width, height)\n",
    "shape.text = 'Step 1'\n",
    "\n",
    "left = left + width - Inches(0.4)\n",
    "width = Inches(2.0)  # chevrons need more width for visual balance\n",
    "\n",
    "for n in range(2, 6):\n",
    "    shape = shapes.add_shape(MSO_SHAPE.CHEVRON, left, top, width, height)\n",
    "    shape.text = 'Step %d' % n\n",
    "    left = left + width - Inches(0.4)\n",
    "\n",
    "prs.save('test.pptx')"
   ]
  }
 ],
 "metadata": {
  "kernelspec": {
   "display_name": "Python 2",
   "language": "python",
   "name": "python2"
  },
  "language_info": {
   "codemirror_mode": {
    "name": "ipython",
    "version": 2
   },
   "file_extension": ".py",
   "mimetype": "text/x-python",
   "name": "python",
   "nbconvert_exporter": "python",
   "pygments_lexer": "ipython2",
   "version": "2.7.11"
  }
 },
 "nbformat": 4,
 "nbformat_minor": 0
}
